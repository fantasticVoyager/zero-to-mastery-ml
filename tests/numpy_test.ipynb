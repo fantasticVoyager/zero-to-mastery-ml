{
 "cells": [
  {
   "cell_type": "markdown",
   "metadata": {
    "collapsed": true,
    "pycharm": {
     "name": "#%% md\n"
    }
   },
   "source": [
    "### This is just to follow along and play around with numpy"
   ]
  },
  {
   "cell_type": "code",
   "execution_count": 16,
   "outputs": [],
   "source": [
    "import numpy as np"
   ],
   "metadata": {
    "collapsed": false,
    "pycharm": {
     "name": "#%%\n"
    }
   }
  },
  {
   "cell_type": "code",
   "execution_count": 17,
   "outputs": [],
   "source": [
    "ar1 = np.array([1, 2, 3])\n"
   ],
   "metadata": {
    "collapsed": false,
    "pycharm": {
     "name": "#%%\n"
    }
   }
  },
  {
   "cell_type": "code",
   "execution_count": 18,
   "outputs": [
    {
     "data": {
      "text/plain": "numpy.ndarray"
     },
     "execution_count": 18,
     "metadata": {},
     "output_type": "execute_result"
    }
   ],
   "source": [
    "type(ar1)\n"
   ],
   "metadata": {
    "collapsed": false,
    "pycharm": {
     "name": "#%%\n"
    }
   }
  },
  {
   "cell_type": "code",
   "execution_count": 19,
   "outputs": [],
   "source": [
    "ar2 = np.array([[1, 2.0, 3.3],\n",
    "               [4.5, 5, 6.7]])"
   ],
   "metadata": {
    "collapsed": false,
    "pycharm": {
     "name": "#%%\n"
    }
   }
  },
  {
   "cell_type": "code",
   "execution_count": 20,
   "outputs": [],
   "source": [
    "ar3 = np.array([\n",
    "    [\n",
    "        [1, 2, 3, 5],\n",
    "        [4, 5, 6, 5],\n",
    "        [7, 8, 9, 5]\n",
    "    ],\n",
    "    [\n",
    "        [10, 11, 12, 5],\n",
    "        [13, 14, 15, 5],\n",
    "        [16, 17, 18, 5]\n",
    "    ]\n",
    "])"
   ],
   "metadata": {
    "collapsed": false,
    "pycharm": {
     "name": "#%%\n"
    }
   }
  },
  {
   "cell_type": "code",
   "execution_count": 21,
   "outputs": [
    {
     "data": {
      "text/plain": "array([[1. , 2. , 3.3],\n       [4.5, 5. , 6.7]])"
     },
     "execution_count": 21,
     "metadata": {},
     "output_type": "execute_result"
    }
   ],
   "source": [
    "ar2"
   ],
   "metadata": {
    "collapsed": false,
    "pycharm": {
     "name": "#%%\n"
    }
   }
  },
  {
   "cell_type": "code",
   "execution_count": 22,
   "outputs": [
    {
     "data": {
      "text/plain": "array([[[ 1,  2,  3,  5],\n        [ 4,  5,  6,  5],\n        [ 7,  8,  9,  5]],\n\n       [[10, 11, 12,  5],\n        [13, 14, 15,  5],\n        [16, 17, 18,  5]]])"
     },
     "execution_count": 22,
     "metadata": {},
     "output_type": "execute_result"
    }
   ],
   "source": [
    "ar3"
   ],
   "metadata": {
    "collapsed": false,
    "pycharm": {
     "name": "#%%\n"
    }
   }
  },
  {
   "cell_type": "markdown",
   "source": [
    "### the shape of ar3 is (2, 3, 4), see the formatting above where it's declared"
   ],
   "metadata": {
    "collapsed": false,
    "pycharm": {
     "name": "#%% md\n"
    }
   }
  },
  {
   "cell_type": "code",
   "execution_count": 23,
   "outputs": [
    {
     "data": {
      "text/plain": "(2, 3, 4)"
     },
     "execution_count": 23,
     "metadata": {},
     "output_type": "execute_result"
    }
   ],
   "source": [
    "ar3.shape"
   ],
   "metadata": {
    "collapsed": false,
    "pycharm": {
     "name": "#%%\n"
    }
   }
  },
  {
   "cell_type": "code",
   "execution_count": 24,
   "outputs": [
    {
     "data": {
      "text/plain": "(3,)"
     },
     "execution_count": 24,
     "metadata": {},
     "output_type": "execute_result"
    }
   ],
   "source": [
    "ar1.shape\n"
   ],
   "metadata": {
    "collapsed": false,
    "pycharm": {
     "name": "#%%\n"
    }
   }
  },
  {
   "cell_type": "code",
   "execution_count": 25,
   "outputs": [
    {
     "data": {
      "text/plain": "(1, 2, 3)"
     },
     "execution_count": 25,
     "metadata": {},
     "output_type": "execute_result"
    }
   ],
   "source": [
    "#ndarray.ndim tells you how many dimensions are present in the ndarray\n",
    "ar1.ndim, ar2.ndim, ar3.ndim"
   ],
   "metadata": {
    "collapsed": false,
    "pycharm": {
     "name": "#%%\n"
    }
   }
  },
  {
   "cell_type": "code",
   "execution_count": 26,
   "outputs": [
    {
     "data": {
      "text/plain": "(dtype('int32'), dtype('float64'), dtype('int32'))"
     },
     "execution_count": 26,
     "metadata": {},
     "output_type": "execute_result"
    }
   ],
   "source": [
    "ar1.dtype, ar2.dtype, ar3.dtype"
   ],
   "metadata": {
    "collapsed": false,
    "pycharm": {
     "name": "#%%\n"
    }
   }
  },
  {
   "cell_type": "code",
   "execution_count": 27,
   "outputs": [
    {
     "data": {
      "text/plain": "(3, 6, 24)"
     },
     "execution_count": 27,
     "metadata": {},
     "output_type": "execute_result"
    }
   ],
   "source": [
    "#.size gives us the total number of elements are in the ndarray\n",
    "ar1.size, ar2.size,ar3.size\n"
   ],
   "metadata": {
    "collapsed": false,
    "pycharm": {
     "name": "#%%\n"
    }
   }
  },
  {
   "cell_type": "code",
   "execution_count": 28,
   "outputs": [
    {
     "data": {
      "text/plain": "(numpy.ndarray, numpy.ndarray, numpy.ndarray)"
     },
     "execution_count": 28,
     "metadata": {},
     "output_type": "execute_result"
    }
   ],
   "source": [
    "#these vary by shape and num of dimensions, but they're all ndarray datatypes\n",
    "type(ar1), type(ar2), type(ar3)"
   ],
   "metadata": {
    "collapsed": false,
    "pycharm": {
     "name": "#%%\n"
    }
   }
  },
  {
   "cell_type": "markdown",
   "source": [
    "### Create a pandas DataFrame from a NumPy array\n"
   ],
   "metadata": {
    "collapsed": false,
    "pycharm": {
     "name": "#%% md\n"
    }
   }
  },
  {
   "cell_type": "code",
   "execution_count": 29,
   "outputs": [
    {
     "data": {
      "text/plain": "     0    1    2\n0  1.0  2.0  3.3\n1  4.5  5.0  6.7",
      "text/html": "<div>\n<style scoped>\n    .dataframe tbody tr th:only-of-type {\n        vertical-align: middle;\n    }\n\n    .dataframe tbody tr th {\n        vertical-align: top;\n    }\n\n    .dataframe thead th {\n        text-align: right;\n    }\n</style>\n<table border=\"1\" class=\"dataframe\">\n  <thead>\n    <tr style=\"text-align: right;\">\n      <th></th>\n      <th>0</th>\n      <th>1</th>\n      <th>2</th>\n    </tr>\n  </thead>\n  <tbody>\n    <tr>\n      <th>0</th>\n      <td>1.0</td>\n      <td>2.0</td>\n      <td>3.3</td>\n    </tr>\n    <tr>\n      <th>1</th>\n      <td>4.5</td>\n      <td>5.0</td>\n      <td>6.7</td>\n    </tr>\n  </tbody>\n</table>\n</div>"
     },
     "execution_count": 29,
     "metadata": {},
     "output_type": "execute_result"
    }
   ],
   "source": [
    "import pandas as pd\n",
    "df = pd.DataFrame(ar2)\n",
    "df"
   ],
   "metadata": {
    "collapsed": false,
    "pycharm": {
     "name": "#%%\n"
    }
   }
  },
  {
   "cell_type": "code",
   "execution_count": 30,
   "outputs": [],
   "source": [
    "#This does not work, you have to pass a 2d input to the DataFrame\n",
    "# df3 = pd.DataFrame(ar3)\n",
    "# df3"
   ],
   "metadata": {
    "collapsed": false,
    "pycharm": {
     "name": "#%%\n"
    }
   }
  },
  {
   "cell_type": "code",
   "execution_count": 31,
   "outputs": [
    {
     "data": {
      "text/plain": "   0\n0  1\n1  2\n2  3",
      "text/html": "<div>\n<style scoped>\n    .dataframe tbody tr th:only-of-type {\n        vertical-align: middle;\n    }\n\n    .dataframe tbody tr th {\n        vertical-align: top;\n    }\n\n    .dataframe thead th {\n        text-align: right;\n    }\n</style>\n<table border=\"1\" class=\"dataframe\">\n  <thead>\n    <tr style=\"text-align: right;\">\n      <th></th>\n      <th>0</th>\n    </tr>\n  </thead>\n  <tbody>\n    <tr>\n      <th>0</th>\n      <td>1</td>\n    </tr>\n    <tr>\n      <th>1</th>\n      <td>2</td>\n    </tr>\n    <tr>\n      <th>2</th>\n      <td>3</td>\n    </tr>\n  </tbody>\n</table>\n</div>"
     },
     "execution_count": 31,
     "metadata": {},
     "output_type": "execute_result"
    }
   ],
   "source": [
    "#However, passing a 1d ndarray does work, you just get a vector visualization\n",
    "df1 = pd.DataFrame(ar1)\n",
    "df1\n"
   ],
   "metadata": {
    "collapsed": false,
    "pycharm": {
     "name": "#%%\n"
    }
   }
  },
  {
   "cell_type": "code",
   "execution_count": 32,
   "outputs": [
    {
     "data": {
      "text/plain": "array([[1., 1., 1.],\n       [1., 1., 1.]])"
     },
     "execution_count": 32,
     "metadata": {},
     "output_type": "execute_result"
    }
   ],
   "source": [
    "ones = np.ones((2, 3))\n",
    "ones"
   ],
   "metadata": {
    "collapsed": false,
    "pycharm": {
     "name": "#%%\n"
    }
   }
  },
  {
   "cell_type": "code",
   "execution_count": 33,
   "outputs": [
    {
     "data": {
      "text/plain": "numpy.ndarray"
     },
     "execution_count": 33,
     "metadata": {},
     "output_type": "execute_result"
    }
   ],
   "source": [
    "type(ones)"
   ],
   "metadata": {
    "collapsed": false,
    "pycharm": {
     "name": "#%%\n"
    }
   }
  },
  {
   "cell_type": "code",
   "execution_count": 34,
   "outputs": [],
   "source": [
    "range_array = np.arange(0, 11, 2)"
   ],
   "metadata": {
    "collapsed": false,
    "pycharm": {
     "name": "#%%\n"
    }
   }
  },
  {
   "cell_type": "code",
   "execution_count": 35,
   "outputs": [
    {
     "data": {
      "text/plain": "array([ 0,  2,  4,  6,  8, 10])"
     },
     "execution_count": 35,
     "metadata": {},
     "output_type": "execute_result"
    }
   ],
   "source": [
    "range_array"
   ],
   "metadata": {
    "collapsed": false,
    "pycharm": {
     "name": "#%%\n"
    }
   }
  },
  {
   "cell_type": "code",
   "execution_count": 36,
   "outputs": [
    {
     "data": {
      "text/plain": "array([[2, 3, 9, 7, 1],\n       [6, 1, 5, 6, 5],\n       [6, 8, 1, 4, 5]])"
     },
     "execution_count": 36,
     "metadata": {},
     "output_type": "execute_result"
    }
   ],
   "source": [
    "random_array = np.random.randint(0, 10, size=(3, 5))\n",
    "random_array"
   ],
   "metadata": {
    "collapsed": false,
    "pycharm": {
     "name": "#%%\n"
    }
   }
  },
  {
   "cell_type": "code",
   "execution_count": 39,
   "outputs": [
    {
     "data": {
      "text/plain": "array([[[ 1,  2,  3,  5],\n        [ 4,  5,  6,  5],\n        [ 7,  8,  9,  5]],\n\n       [[10, 11, 12,  5],\n        [13, 14, 15,  5],\n        [16, 17, 18,  5]]])"
     },
     "execution_count": 39,
     "metadata": {},
     "output_type": "execute_result"
    }
   ],
   "source": [
    "ar3\n"
   ],
   "metadata": {
    "collapsed": false,
    "pycharm": {
     "name": "#%%\n"
    }
   }
  },
  {
   "cell_type": "code",
   "execution_count": 43,
   "outputs": [
    {
     "data": {
      "text/plain": "array([[10, 11, 12,  5],\n       [13, 14, 15,  5]])"
     },
     "execution_count": 43,
     "metadata": {},
     "output_type": "execute_result"
    }
   ],
   "source": [
    "ar3[1, :2]"
   ],
   "metadata": {
    "collapsed": false,
    "pycharm": {
     "name": "#%%\n"
    }
   }
  },
  {
   "cell_type": "code",
   "execution_count": 44,
   "outputs": [],
   "source": [
    "big_array = np.random.randint(0, 145, (3, 4, 5, 6))"
   ],
   "metadata": {
    "collapsed": false,
    "pycharm": {
     "name": "#%%\n"
    }
   }
  },
  {
   "cell_type": "code",
   "execution_count": 45,
   "outputs": [
    {
     "data": {
      "text/plain": "array([[[[ 90,  74, 100,  56, 136,  67],\n         [ 25,  36, 107,  76,  16,  28],\n         [131, 138,  35,  73,  99, 111],\n         [ 34,  81,  60,  55,  80,  79],\n         [113,  73,  91,   6,  99, 106]],\n\n        [[117, 142,  51,  92,  64,  15],\n         [ 76,  87,  72,  55, 125, 122],\n         [ 79, 115,  13, 103,  36,  36],\n         [ 76, 126,  12,  60, 143,  71],\n         [124, 141,  27,  77,  28, 111]],\n\n        [[132,  86, 130,  32, 124, 121],\n         [121,   4,  64,  83,  36,  11],\n         [139, 119,  79,  18,  99,  36],\n         [ 36, 123, 134,  27,  58,  54],\n         [  1,  71,  33,  91,  68,  16]],\n\n        [[ 66,   5,   6,  69,  83,   3],\n         [ 79,  72,  71,  62,  75, 116],\n         [ 24, 137, 128,   7, 144, 118],\n         [137,  30,  44,  40,  13,   1],\n         [ 52,  60,  52, 124,  83,  37]]],\n\n\n       [[[ 18,  90,  18,  89, 133, 104],\n         [ 80,  97,  10,  32, 128, 101],\n         [ 18,  17,  56, 142,  93,  35],\n         [ 84,  61, 100, 118, 110, 115],\n         [123,  83,   1,  47,  73, 110]],\n\n        [[118,  48,  62,   5,  90,  89],\n         [ 22, 109,  30,  43,  78,  62],\n         [101, 120,  13,  14,  13,  51],\n         [117,  12,  94,  52,   6,  62],\n         [ 31,  51, 117,  45, 112,  32]],\n\n        [[124,  85, 115,  22,  94,  57],\n         [108,  73, 119, 105, 123, 141],\n         [ 18, 117, 122,  94,  58,  75],\n         [121,  64,  23,  82,  98,  29],\n         [ 60, 108, 128,  69, 109,   7]],\n\n        [[ 18, 105,  50,   3, 117, 117],\n         [ 18,  16, 130,  62,  71,  98],\n         [112,  62,  74, 106,  82,  53],\n         [133, 102, 116,  92,  43, 122],\n         [ 26,  99,  57, 127, 141, 130]]],\n\n\n       [[[123, 136,  64, 122, 119,  16],\n         [  7,  73,  12,   3,  82,  23],\n         [ 48,  91,  81,  88,  87,  71],\n         [133, 136,  42,  75,  78,  90],\n         [ 39,  68,  30, 112,  48,  98]],\n\n        [[ 83,  21,  34,  46, 136,  40],\n         [ 88,   9,  80, 124, 135,  53],\n         [ 22, 125, 133,  60,  26,  30],\n         [ 24,   2,  43,  64,  80, 133],\n         [119,  85,  71,  43,  89,  66]],\n\n        [[127,  91,   2,  59,  93,   6],\n         [  9, 100, 130,   4,  61,  44],\n         [ 68, 138, 113,  30, 104,  81],\n         [ 49, 130,  17, 131, 138,  16],\n         [ 36, 120,  73,  28,  52,  62]],\n\n        [[ 81, 111,  75,  88,  57,  33],\n         [128,   8,  19,  64,   5,  78],\n         [116,  76,  28,  11,  77, 101],\n         [125,  86,  30,  94,  57,  71],\n         [ 20,  33,  12, 134,  42, 117]]]])"
     },
     "execution_count": 45,
     "metadata": {},
     "output_type": "execute_result"
    }
   ],
   "source": [
    "big_array"
   ],
   "metadata": {
    "collapsed": false,
    "pycharm": {
     "name": "#%%\n"
    }
   }
  },
  {
   "cell_type": "code",
   "execution_count": 46,
   "outputs": [
    {
     "data": {
      "text/plain": "array([[[[ 90,  74, 100],\n         [ 25,  36, 107],\n         [131, 138,  35],\n         [ 34,  81,  60],\n         [113,  73,  91]],\n\n        [[117, 142,  51],\n         [ 76,  87,  72],\n         [ 79, 115,  13],\n         [ 76, 126,  12],\n         [124, 141,  27]],\n\n        [[132,  86, 130],\n         [121,   4,  64],\n         [139, 119,  79],\n         [ 36, 123, 134],\n         [  1,  71,  33]],\n\n        [[ 66,   5,   6],\n         [ 79,  72,  71],\n         [ 24, 137, 128],\n         [137,  30,  44],\n         [ 52,  60,  52]]],\n\n\n       [[[ 18,  90,  18],\n         [ 80,  97,  10],\n         [ 18,  17,  56],\n         [ 84,  61, 100],\n         [123,  83,   1]],\n\n        [[118,  48,  62],\n         [ 22, 109,  30],\n         [101, 120,  13],\n         [117,  12,  94],\n         [ 31,  51, 117]],\n\n        [[124,  85, 115],\n         [108,  73, 119],\n         [ 18, 117, 122],\n         [121,  64,  23],\n         [ 60, 108, 128]],\n\n        [[ 18, 105,  50],\n         [ 18,  16, 130],\n         [112,  62,  74],\n         [133, 102, 116],\n         [ 26,  99,  57]]],\n\n\n       [[[123, 136,  64],\n         [  7,  73,  12],\n         [ 48,  91,  81],\n         [133, 136,  42],\n         [ 39,  68,  30]],\n\n        [[ 83,  21,  34],\n         [ 88,   9,  80],\n         [ 22, 125, 133],\n         [ 24,   2,  43],\n         [119,  85,  71]],\n\n        [[127,  91,   2],\n         [  9, 100, 130],\n         [ 68, 138, 113],\n         [ 49, 130,  17],\n         [ 36, 120,  73]],\n\n        [[ 81, 111,  75],\n         [128,   8,  19],\n         [116,  76,  28],\n         [125,  86,  30],\n         [ 20,  33,  12]]]])"
     },
     "execution_count": 46,
     "metadata": {},
     "output_type": "execute_result"
    }
   ],
   "source": [
    "big_array[:, :, :, :3]"
   ],
   "metadata": {
    "collapsed": false,
    "pycharm": {
     "name": "#%%\n"
    }
   }
  },
  {
   "cell_type": "code",
   "execution_count": null,
   "outputs": [],
   "source": [],
   "metadata": {
    "collapsed": false,
    "pycharm": {
     "name": "#%%\n"
    }
   }
  }
 ],
 "metadata": {
  "kernelspec": {
   "display_name": "Python 3",
   "language": "python",
   "name": "python3"
  },
  "language_info": {
   "codemirror_mode": {
    "name": "ipython",
    "version": 2
   },
   "file_extension": ".py",
   "mimetype": "text/x-python",
   "name": "python",
   "nbconvert_exporter": "python",
   "pygments_lexer": "ipython2",
   "version": "2.7.6"
  }
 },
 "nbformat": 4,
 "nbformat_minor": 0
}